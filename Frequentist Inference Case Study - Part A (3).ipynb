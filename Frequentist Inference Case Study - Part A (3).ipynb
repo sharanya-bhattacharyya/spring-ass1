{
 "cells": [
  {
   "cell_type": "markdown",
   "metadata": {},
   "source": [
    "# Frequentist Inference Case Study - Part A "
   ]
  },
  {
   "cell_type": "markdown",
   "metadata": {},
   "source": [
    "## 1. Learning objectives"
   ]
  },
  {
   "cell_type": "markdown",
   "metadata": {},
   "source": [
    "Welcome to part A of the Frequentist inference case study! The purpose of this case study is to help you apply the concepts associated with Frequentist inference in Python. Frequentist inference is the process of deriving conclusions about an underlying distribution via the observation of data. In particular, you'll practice writing Python code to apply the following statistical concepts: \n",
    "* the _z_-statistic\n",
    "* the _t_-statistic\n",
    "* the difference and relationship between the two\n",
    "* the Central Limit Theorem, including its assumptions and consequences\n",
    "* how to estimate the population mean and standard deviation from a sample\n",
    "* the concept of a sampling distribution of a test statistic, particularly for the mean\n",
    "* how to combine these concepts to calculate a confidence interval"
   ]
  },
  {
   "cell_type": "markdown",
   "metadata": {},
   "source": [
    "## Prerequisites"
   ]
  },
  {
   "cell_type": "markdown",
   "metadata": {},
   "source": [
    "To be able to complete this notebook, you are expected to have a basic understanding of:\n",
    "* what a random variable is (p.400 of Professor Spiegelhalter's *The Art of Statistics, hereinafter AoS*)\n",
    "* what a population, and a population distribution, are (p. 397 of *AoS*)\n",
    "* a high-level sense of what the normal distribution is (p. 394 of *AoS*)\n",
    "* what the t-statistic is (p. 275 of *AoS*)\n",
    "\n",
    "Happily, these should all be concepts with which you are reasonably familiar after having read ten chapters of Professor Spiegelhalter's book, *The Art of Statistics*.\n",
    "\n",
    "We'll try to relate the concepts in this case study back to page numbers in *The Art of Statistics* so that you can focus on the Python aspects of this case study. The second part (part B) of this case study will involve another, more real-world application of these tools. "
   ]
  },
  {
   "cell_type": "markdown",
   "metadata": {},
   "source": [
    "For this notebook, we will use data sampled from a known normal distribution. This allows us to compare our results with theoretical expectations."
   ]
  },
  {
   "cell_type": "markdown",
   "metadata": {},
   "source": [
    "## 2. An introduction to sampling from the normal distribution"
   ]
  },
  {
   "cell_type": "markdown",
   "metadata": {},
   "source": [
    "First, let's explore the ways we can generate the normal distribution. While there's a fair amount of interest in [sklearn](https://scikit-learn.org/stable/) within the machine learning community, you're likely to have heard of [scipy](https://docs.scipy.org/doc/scipy-0.15.1/reference/index.html) if you're coming from the sciences. For this assignment, you'll use [scipy.stats](https://docs.scipy.org/doc/scipy-0.15.1/reference/tutorial/stats.html) to complete your work. \n",
    "\n",
    "This assignment will require some digging around and getting your hands dirty (your learning is maximized that way)! You should have the research skills and the tenacity to do these tasks independently, but if you struggle, reach out to your immediate community and your mentor for help. "
   ]
  },
  {
   "cell_type": "code",
   "execution_count": 2,
   "metadata": {},
   "outputs": [],
   "source": [
    "from scipy.stats import norm\n",
    "from scipy.stats import t\n",
    "import numpy as np\n",
    "import pandas as pd\n",
    "from numpy.random import seed\n",
    "import matplotlib.pyplot as plt"
   ]
  },
  {
   "cell_type": "markdown",
   "metadata": {},
   "source": [
    "__Q1:__ Call up the documentation for the `norm` function imported above. (Hint: that documentation is [here](https://docs.scipy.org/doc/scipy/reference/generated/scipy.stats.norm.html)). What is the second listed method?"
   ]
  },
  {
   "cell_type": "code",
   "execution_count": 3,
   "metadata": {},
   "outputs": [
    {
     "data": {
      "image/png": "[encoded data removed]",
      "text/plain": [
       "<Figure size 432x288 with 1 Axes>"
      ]
     },
     "metadata": {
      "needs_background": "light"
     },
     "output_type": "display_data"
    }
   ],
   "source": [
    "x = np.linspace(norm.ppf(0.01),\n",
    "                norm.ppf(0.99), 100)\n",
    "fig, ax = plt.subplots(1, 1)\n",
    "ax.plot(x, norm.pdf(x),\n",
    "       'r-', lw=5, alpha=0.6, label='norm pdf')\n",
    "plt.show()"
   ]
  },
  {
   "cell_type": "markdown",
   "metadata": {},
   "source": [
    "__A:__"
   ]
  },
  {
   "cell_type": "markdown",
   "metadata": {},
   "source": [
    "__Q2:__ Use the method that generates random variates to draw five samples from the standard normal distribution. "
   ]
  },
  {
   "cell_type": "markdown",
   "metadata": {},
   "source": [
    "__A:__"
   ]
  },
  {
   "cell_type": "code",
   "execution_count": 4,
   "metadata": {},
   "outputs": [],
   "source": [
    "seed(47)\n",
    "# draw five samples here\n",
    "sample1 = np.random.normal(size=1000)\n",
    "sample2 = np.random.normal(size=1000)\n",
    "sample3 = np.random.normal(size=1000)\n",
    "sample4 = np.random.normal(size=1000)\n",
    "sample5 = np.random.normal(size=1000)"
   ]
  },
  {
   "cell_type": "code",
   "execution_count": 5,
   "metadata": {},
   "outputs": [
    {
     "data": {
      "text/plain": [
       "array([-8.48009476e-01,  1.30590636e+00,  9.24207966e-01,  6.40411801e-01,\n",
       "       -1.05473698e+00,  1.79776072e+00, -1.01278675e+00,  8.23623324e-01,\n",
       "       -2.94650353e-01, -5.92470572e-01, -1.39372706e+00,  1.10417967e+00,\n",
       "       -9.32340286e-01, -9.43156437e-01,  4.36606232e-01,  7.94958270e-01,\n",
       "        7.19533153e-01,  8.76622566e-02, -1.32274841e+00,  5.17939788e-02,\n",
       "       -1.83479526e+00,  3.27496473e-01,  4.76237234e-01,  1.68428646e-01,\n",
       "       -8.62411331e-01,  9.07444498e-01,  4.22889373e-01, -2.21242895e+00,\n",
       "       -1.65420574e+00,  3.21375264e-01, -4.62674354e-01, -1.08075021e+00,\n",
       "       -3.13774140e-01, -1.01785189e+00,  4.99422700e-01, -2.99462411e-02,\n",
       "        4.70901046e-02, -1.17085876e+00, -1.91252729e+00,  2.71542220e-01,\n",
       "        3.22065299e-01, -1.13100016e+00,  1.57861140e-01, -9.20397556e-01,\n",
       "       -7.45909879e-01, -2.04213090e-01,  1.96638482e+00,  8.23346112e-01,\n",
       "       -1.05748398e+00,  5.51049366e-01,  2.74123250e-01,  3.67296464e-01,\n",
       "        1.95889334e-01, -1.13528706e-01, -2.08892706e+00, -9.39464548e-01,\n",
       "        2.75847385e-01,  4.27606857e-01,  4.16746332e-01,  3.01753914e-01,\n",
       "       -1.91666376e+00, -1.80072562e-01,  1.26964413e+00, -2.57568271e+00,\n",
       "        5.57686213e-01,  2.38902090e+00,  6.30227604e-02,  2.95206869e-01,\n",
       "        9.41794035e-01, -2.75475291e-02,  1.02093211e+00, -2.24605087e+00,\n",
       "       -4.07225488e-01,  2.19171257e+00,  2.00709774e+00,  1.42914719e+00,\n",
       "        1.08941097e+00, -7.87070939e-01, -7.59207509e-02,  1.15378480e+00,\n",
       "        3.88743949e-01,  8.77282434e-01,  1.39110702e+00,  2.34327721e-01,\n",
       "       -1.42817113e-01, -5.73514570e-02,  5.48428959e-01,  5.71178632e-01,\n",
       "       -3.55107620e-01, -1.75385252e+00,  5.26805570e-01, -1.18913268e-01,\n",
       "       -5.06043608e-01, -1.72655907e-01, -2.93223363e-01, -2.13807143e+00,\n",
       "        9.87993158e-01,  8.20486612e-01,  5.81123877e-01,  1.77745083e+00,\n",
       "       -9.84595264e-01,  4.03200469e-01,  9.32856212e-01,  3.45600001e-02,\n",
       "        3.62431456e-01, -4.25475908e-01,  7.35280240e-01, -5.49536513e-01,\n",
       "       -1.11421590e-01,  2.26565051e+00,  1.44626253e+00, -4.00930324e-02,\n",
       "       -8.32472796e-01, -5.32238437e-01,  1.75987132e+00,  2.13959488e-01,\n",
       "        8.10739183e-01, -5.37219172e-01, -4.72038122e-01,  3.73653308e-01,\n",
       "        1.08148674e+00,  2.31351708e+00, -8.07441888e-01, -1.00562199e+00,\n",
       "       -1.11398692e+00,  1.34892807e+00,  1.09806890e+00, -1.45334496e+00,\n",
       "       -1.95088635e-02, -6.44538447e-02,  8.33437150e-01, -8.27868485e-01,\n",
       "       -1.67893467e+00, -1.15034116e+00,  2.18231542e+00,  8.98322280e-01,\n",
       "        3.84652482e-01,  1.53201843e-01, -3.68333558e-01,  1.58893127e-01,\n",
       "        4.90037464e-01,  6.01427473e-01,  4.93813407e-01, -1.01821439e+00,\n",
       "       -2.09075611e-01,  1.08963639e+00, -7.36777110e-01,  4.92271708e-01,\n",
       "        5.41701014e-01,  5.04837520e-01,  1.55683006e+00, -5.11321618e-02,\n",
       "       -2.12079119e-02, -1.83855950e-01,  2.50672030e-01, -5.26583794e-01,\n",
       "        2.17109481e-01, -1.76879480e-01,  4.93268842e-01, -5.70386727e-01,\n",
       "        4.60588145e-01,  3.84676978e-02, -9.68028119e-01,  2.55126894e-01,\n",
       "       -9.78575714e-01,  1.67642982e+00, -7.09724021e-01,  2.95206543e+00,\n",
       "       -3.05298681e-01,  2.82924098e+00, -1.79446401e-01,  5.71396667e-01,\n",
       "       -1.14451208e-02,  2.50751385e-01, -2.25153302e+00, -4.37312306e-01,\n",
       "       -1.13624652e+00,  4.52587473e-02, -3.25203811e-01, -1.60720674e+00,\n",
       "        2.37948249e-01,  5.27553974e-01,  4.54531490e-01, -2.39844264e-01,\n",
       "        1.74247324e+00,  1.43734634e-01, -1.46857829e+00, -2.43893448e-01,\n",
       "       -5.11081932e-01,  1.28116803e+00,  3.74704143e-01, -7.07614262e-01,\n",
       "       -2.33723538e-02,  2.09686906e-01, -1.41798542e+00,  7.41537604e-01,\n",
       "       -9.33921649e-01,  3.66912027e-01, -2.22516460e-01, -4.31230375e-01,\n",
       "       -3.80330250e-01,  8.10220279e-01, -1.02828702e+00, -1.40837354e+00,\n",
       "       -3.58205409e-01, -4.38503321e-01, -1.89180504e+00, -2.83815359e-01,\n",
       "       -9.53275970e-01,  2.35596103e-02,  9.76276288e-01, -1.01937184e+00,\n",
       "        3.39769130e-01,  1.21879451e+00, -2.65856740e-01, -1.65052361e+00,\n",
       "        2.13142593e-01,  1.60493300e+00,  1.18291330e+00,  1.84835364e+00,\n",
       "       -3.76624158e-01, -1.20818462e+00,  2.63224895e-01,  3.60585955e-01,\n",
       "        2.13341477e-01, -1.26613498e-01, -6.35952161e-01,  7.75865677e-01,\n",
       "       -6.51022550e-02,  1.07296645e-01, -1.04768156e+00,  1.85702156e+00,\n",
       "        3.20400651e-01, -1.09512620e+00, -1.38678741e+00, -3.53949597e-01,\n",
       "       -2.85642060e-01,  2.05925006e+00,  2.32776028e-01, -1.61224693e+00,\n",
       "        7.18537291e-02,  6.66335077e-01,  3.32115583e-01, -3.36504981e-01,\n",
       "        4.97755356e-01, -1.79408897e+00,  3.46034078e-01,  1.36030707e+00,\n",
       "        2.33292788e+00, -7.10241263e-01,  1.15687395e+00,  1.78980305e+00,\n",
       "       -1.66714396e+00, -1.29429432e+00, -1.34225986e+00, -5.39570382e-01,\n",
       "        4.95656626e-01, -1.15392211e+00,  5.08617432e-01, -6.13012657e-01,\n",
       "       -1.13401389e+00,  1.23001580e+00,  2.90835040e-01, -2.74656274e-01,\n",
       "        3.28073470e-01, -1.28361998e+00, -7.66176419e-02,  1.01100174e+00,\n",
       "       -1.71799330e+00, -5.23779879e-01, -2.40344631e-01,  3.87691102e-01,\n",
       "       -2.42875649e+00, -1.83609041e-01, -1.60642335e+00, -1.65084424e+00,\n",
       "        4.91279328e-01, -1.33850546e+00, -2.96088331e-01,  6.13710414e-01,\n",
       "        9.09427965e-02, -2.12251185e-01, -2.94426219e-01, -1.25977896e-01,\n",
       "       -1.03883802e+00,  1.04460527e+00, -1.20940193e+00,  1.52853452e+00,\n",
       "       -9.25698358e-01,  6.93501717e-01,  6.16420129e-01,  1.30391294e-01,\n",
       "       -3.33731053e-02,  5.85679677e-01,  1.17608306e+00,  1.01534337e+00,\n",
       "       -1.41235248e+00, -4.71584685e-01, -6.60557102e-01, -1.51622562e-01,\n",
       "       -5.29207737e-02, -2.13367019e-01,  1.85531890e-01,  1.10590789e+00,\n",
       "       -1.21378978e+00,  1.02175577e+00,  2.70656537e-01,  7.78642308e-01,\n",
       "        8.45273651e-01,  9.05722169e-01,  7.54320773e-01,  2.45300370e-02,\n",
       "       -1.50293395e+00,  9.89077043e-01,  6.63690948e-01,  6.61495712e-01,\n",
       "        4.28335981e-01,  1.10609409e+00,  3.76243039e-01,  6.17333495e-01,\n",
       "        4.17607920e-01,  1.03677702e+00,  1.25724660e+00, -1.11995833e+00,\n",
       "        1.35529083e+00, -2.45594881e-01,  5.28419453e-01, -4.20992593e-02,\n",
       "       -4.18323936e-01, -5.08085380e-04,  4.90635168e-02,  9.61278749e-01,\n",
       "       -3.70442801e-03, -1.35469188e+00,  1.09725617e+00,  1.22158467e-01,\n",
       "        1.48778898e-01, -2.25454456e-01, -3.13169085e-01,  1.99859727e+00,\n",
       "        8.19640820e-01,  1.34542672e-01, -2.10723215e+00, -1.09220819e+00,\n",
       "        1.39407336e+00,  5.46238409e-01, -1.90572831e+00, -1.87414639e-01,\n",
       "        8.49062927e-01, -5.68521830e-02, -4.18241220e-01,  1.02706073e-01,\n",
       "        6.86758033e-01,  1.13814255e+00,  8.23680531e-01,  4.11272276e-01,\n",
       "        1.44537396e+00, -5.80254894e-01,  1.57608173e+00, -7.98909740e-01,\n",
       "        2.36351096e-01, -4.96738714e-01, -5.44288542e-01, -6.59073349e-01,\n",
       "        2.06681273e-01,  1.71981822e+00, -5.89887691e-01,  6.15952078e-01,\n",
       "        1.36741428e+00, -4.57636867e-01,  4.23705347e-01, -1.95629985e+00,\n",
       "        1.87294450e+00,  6.86050647e-01,  1.50658465e+00,  2.82415683e-01,\n",
       "       -1.51593831e+00,  1.60397419e+00,  1.22500686e+00, -1.12318149e+00,\n",
       "        1.54794789e+00, -1.34730988e+00, -1.35775640e+00,  1.94780992e+00,\n",
       "        1.04457756e+00,  2.35812594e-01,  8.68179909e-01, -9.74696019e-03,\n",
       "       -7.29421247e-01, -4.15160956e-01, -1.27824690e+00, -1.16105070e+00,\n",
       "        1.34208554e+00, -1.20334732e-03, -1.19381121e+00,  1.26891140e+00,\n",
       "       -1.30199561e+00,  2.33253292e-01,  1.37936818e+00, -8.36821567e-01,\n",
       "        1.12224759e+00, -9.35132076e-01,  3.29204473e-01,  5.44270032e-01,\n",
       "        2.06138819e+00,  1.00970431e+00, -2.87341192e-01, -1.36678363e+00,\n",
       "       -8.20475237e-01, -5.92288501e-01, -5.48867967e-01,  1.34241797e+00,\n",
       "        6.38663676e-02, -2.14207323e-01,  1.10919097e-01,  5.34242838e-01,\n",
       "       -2.93333575e-01,  7.37728999e-01,  9.29987151e-01,  1.00712593e+00,\n",
       "        1.87537583e+00,  3.90644180e-01, -1.46145087e+00,  2.34155939e-01,\n",
       "       -1.10529822e+00, -1.22488169e+00, -8.30268914e-01, -8.33832577e-01,\n",
       "        8.45823332e-01, -9.74388560e-01,  1.07520649e+00, -1.65093469e-01,\n",
       "        1.46574339e+00, -2.47854442e-02,  5.85816445e-01, -4.73920545e-01,\n",
       "        1.32450692e+00,  4.22499686e-01, -2.33202440e-01, -9.31790349e-01,\n",
       "       -3.91757018e-01,  1.46481952e+00,  5.44758046e-01,  3.63371116e-01,\n",
       "       -1.68216542e+00,  7.58861200e-01,  8.23583516e-01,  1.22446052e+00,\n",
       "       -2.47642450e-01, -3.83873415e-01,  4.99648624e-01, -5.77619426e-02,\n",
       "       -1.76641845e+00, -2.43401873e-01, -5.65576671e-01,  1.95510796e+00,\n",
       "        1.09120141e+00,  9.38911924e-01, -5.39569514e-01,  2.54599742e-01,\n",
       "       -4.23663372e-01,  9.18731560e-01, -5.13652607e-01, -1.31516805e+00,\n",
       "       -7.65184289e-01, -4.35568184e-01,  5.57002691e-01, -6.78511635e-02,\n",
       "        8.59678904e-01,  4.78515875e-01, -2.67084627e-01,  1.60563538e+00,\n",
       "        7.52354520e-01, -8.09918565e-01, -2.23227590e-01, -8.27168900e-01,\n",
       "        4.93840826e-01, -1.01019034e+00,  1.97878778e+00, -6.50067896e-01,\n",
       "        1.14352292e+00, -7.49659377e-01,  4.94365603e-01,  4.57299473e-01,\n",
       "        7.11389169e-01, -9.74286651e-01, -4.34337909e-01, -4.16302847e-01,\n",
       "       -5.13481541e-01, -1.02158665e+00,  1.38294973e+00,  9.74859963e-01,\n",
       "        2.42870572e-01, -7.23020756e-01, -1.38068081e+00, -2.86789310e+00,\n",
       "        2.17654541e+00, -1.77246551e-01,  3.49864886e-01,  4.29181264e-01,\n",
       "        1.21818367e+00, -4.95374635e-01, -7.03474565e-01,  2.35648280e+00,\n",
       "        4.02091491e-01, -3.64542553e-01, -3.49940684e-01, -1.56765518e+00,\n",
       "        1.58068228e+00,  1.40327630e-01, -1.35848980e+00,  2.12300115e+00,\n",
       "        4.86848817e-01,  9.83571696e-01, -5.66932043e-01, -1.10193821e+00,\n",
       "       -7.50766717e-01, -7.87875358e-01, -5.98297686e-01, -1.67545588e+00,\n",
       "       -7.50175068e-01, -4.00448350e-01,  6.63918708e-01,  3.71531184e-01,\n",
       "        8.27431367e-02, -5.04338887e-01, -2.65855195e-01, -5.85300469e-01,\n",
       "       -3.98586573e-01, -1.99657215e+00, -1.64789781e-01, -7.02939280e-01,\n",
       "       -5.24166407e-01,  7.98351277e-01, -3.78933299e-01,  2.31882860e-01,\n",
       "       -2.48959533e+00,  1.92719680e+00,  8.34221828e-01, -3.10211922e-01,\n",
       "        2.09308288e-01,  1.15925958e+00, -1.89227047e+00,  3.32898917e-01,\n",
       "        3.53908753e-01, -1.00518634e+00,  5.83959901e-01, -4.14198260e-01,\n",
       "       -4.95798887e-01,  1.23863010e+00, -1.99667232e+00,  5.22846919e-01,\n",
       "       -5.88687636e-01,  2.79489915e-01, -3.51060038e-02, -1.64835610e+00,\n",
       "       -7.76188389e-01,  7.98988695e-01, -1.01349338e+00,  7.14148404e-01,\n",
       "       -3.42816842e-01,  6.27579336e-01,  1.01640659e+00, -1.44451755e+00,\n",
       "        5.28562484e-01, -2.29434348e-01,  1.08392901e+00, -2.61760793e-02,\n",
       "        7.12638875e-01, -1.02761313e-01,  2.73457315e-01, -2.68409219e-01,\n",
       "        4.70261568e-01, -5.39506264e-01,  5.54355579e-01,  6.29000402e-02,\n",
       "        1.79532035e+00, -8.29084231e-01,  8.80786561e-02,  1.88078672e+00,\n",
       "        1.26853984e+00, -8.89509075e-01,  1.04882043e+00,  2.82403559e+00,\n",
       "       -3.99841387e-01, -1.27328385e+00, -1.12150423e+00,  1.16259699e+00,\n",
       "       -1.63311309e+00,  1.46951606e-01,  4.24944924e-01, -5.76844730e-01,\n",
       "        1.40300618e-01, -5.35205007e-01,  5.21730694e-01, -5.00105163e-02,\n",
       "        1.02698857e-01, -1.63010291e+00,  2.71868514e-01,  5.49029179e-01,\n",
       "        1.76496615e+00,  2.02756319e-01, -1.11815811e+00, -1.02435517e+00,\n",
       "        5.26455992e-01, -1.99270957e-02,  1.82617918e+00, -6.95820381e-01,\n",
       "        1.32351292e+00, -4.83110021e-01, -2.68421139e-01,  5.97758110e-01,\n",
       "       -1.26653921e-01, -1.45154185e+00, -5.82157972e-01, -4.71800249e-01,\n",
       "        4.28646885e-01, -1.09477656e+00,  4.27123731e-01, -5.70571628e-01,\n",
       "       -1.01477750e+00,  4.99113637e-01, -9.53830404e-01, -1.31732215e+00,\n",
       "        4.43467320e-02,  2.49115819e-01, -2.07854463e+00, -6.26447794e-01,\n",
       "       -1.60553380e+00, -4.67273046e-01, -1.58737054e+00, -6.45714457e-01,\n",
       "       -1.34278901e+00, -2.28194580e-01, -1.64505700e+00, -3.58977791e-01,\n",
       "       -3.65646798e-01, -2.55916009e-01,  8.49465229e-01,  6.30828088e-01,\n",
       "       -5.32118604e-01,  7.68908644e-01,  2.00694968e+00, -8.89787061e-01,\n",
       "        1.07186650e+00, -8.87126446e-01, -1.33109702e+00, -1.12224120e+00,\n",
       "       -3.04604611e-01, -8.32353240e-01, -1.62771066e+00,  1.48448875e+00,\n",
       "        7.96523917e-01,  4.42270205e-01, -1.20203483e+00,  2.48174577e+00,\n",
       "        4.37656045e-01,  7.29848904e-01,  1.20488453e+00, -4.25410755e-01,\n",
       "       -5.37822490e-01, -8.76905300e-01,  1.59104730e+00,  2.18503640e+00,\n",
       "       -5.97518058e-01, -8.56900118e-01,  1.10366207e+00,  6.06368520e-01,\n",
       "       -1.19560175e+00, -3.73727672e-01, -3.73244757e-01,  6.38910596e-01,\n",
       "        5.38595136e-02,  5.48769789e-01, -5.36202982e-01,  7.51252608e-01,\n",
       "        1.26389702e+00,  3.46920410e-01, -4.82219068e-01,  1.10751696e-01,\n",
       "       -8.61315603e-01,  3.66234690e-01, -7.48703761e-01,  3.73136803e-01,\n",
       "       -1.54109901e-01,  7.49228538e-01,  8.00749159e-01, -2.39658839e+00,\n",
       "       -7.43809448e-01,  1.03523598e+00,  2.74039095e-01,  4.44626537e-01,\n",
       "        7.69990738e-01, -7.33600280e-01, -6.09597549e-01,  4.99086864e-01,\n",
       "        1.37663233e+00, -8.06829732e-01,  1.12525779e+00,  4.97933128e-01,\n",
       "        3.07188672e-01, -2.89789427e-01,  8.31266680e-03,  4.33754233e-01,\n",
       "       -1.61935415e-01, -1.60367894e+00, -4.34168817e-01,  1.72647156e+00,\n",
       "       -1.30489228e+00,  3.93785372e-01, -7.05301836e-01, -5.96211567e-01,\n",
       "        9.95652536e-01,  1.00731457e+00,  9.91752135e-01,  3.66976737e-01,\n",
       "       -5.84249718e-01, -1.21994990e-01, -2.48250420e-01, -5.79688929e-01,\n",
       "        4.45713996e-02,  4.06907141e-01, -1.04078790e+00, -7.39731075e-01,\n",
       "        1.00692480e+00,  1.52605150e+00,  7.34982873e-01, -5.35650636e-02,\n",
       "        1.07844369e+00,  1.40788838e+00, -1.30481917e+00, -5.56569454e-01,\n",
       "        1.52822808e+00,  4.93021743e-01,  1.23874183e+00,  6.21873902e-01,\n",
       "       -1.20326659e+00, -9.41120020e-01,  1.36847797e-01, -7.90992117e-01,\n",
       "        2.27049241e-01,  1.55611612e-01, -1.14148738e+00,  3.92904876e-01,\n",
       "        8.63656635e-02,  9.75956453e-01, -6.25760762e-01, -4.07932207e-01,\n",
       "       -5.36910496e-01, -1.22577203e+00, -3.65796137e-02,  4.31640016e-01,\n",
       "       -6.54710877e-01, -3.88093740e-01, -1.02214350e+00,  3.01707742e-03,\n",
       "       -6.09572829e-01,  5.01832949e-01,  5.44031547e-01,  4.39820930e-01,\n",
       "        9.15144513e-01, -7.45539567e-01, -9.57490082e-01,  4.47449687e-01,\n",
       "        2.78310074e-01, -8.03490593e-01, -5.68621826e-01,  3.40087479e-01,\n",
       "        5.38694075e-01, -1.16114216e+00,  1.28243906e-01, -5.07965120e-01,\n",
       "        1.14251830e+00,  1.06530337e+00,  1.61303067e-01,  2.20232512e+00,\n",
       "        1.15614068e+00,  4.14482889e-01,  1.15725595e+00,  6.54413803e-01,\n",
       "        2.28872258e-01,  1.11304476e-01,  8.44669445e-02,  1.67118760e+00,\n",
       "        1.23951350e+00, -1.46946911e-01, -2.00868522e+00,  1.49678770e+00,\n",
       "       -3.34818347e-01, -2.97549810e-01,  4.48115923e-01,  5.89298521e-01,\n",
       "        8.20053816e-01, -9.95254274e-01, -3.67788129e-01, -9.35828663e-01,\n",
       "       -2.65131300e-02,  2.27516715e+00, -7.25779395e-02,  1.81743445e+00,\n",
       "       -6.91613819e-01,  5.07701145e-01, -1.18770937e-01, -3.94776695e-01,\n",
       "       -2.10023878e+00, -1.11886465e+00,  2.69952306e+00, -2.34885964e-01,\n",
       "        1.87617525e-01,  2.12884437e-01, -2.72737775e-02,  3.92166043e-01,\n",
       "       -7.73655595e-01, -6.18610347e-01,  6.11772762e-01, -7.17215652e-01,\n",
       "       -6.01329226e-01, -5.53689406e-01, -2.08179642e+00, -7.76851095e-01,\n",
       "       -2.63601866e-01, -1.05606840e-01, -9.88925705e-01, -5.59134079e-01,\n",
       "       -8.32323499e-02, -7.81170386e-01, -1.30456936e+00,  8.34412546e-01,\n",
       "        5.38500583e-01, -1.52797525e-01, -9.52366323e-01,  3.03474554e-01,\n",
       "        2.14031345e+00,  3.97097609e-01, -1.38554242e+00, -6.16358655e-01,\n",
       "        9.51874796e-01,  6.93628357e-01,  8.07979101e-01, -9.10690966e-01,\n",
       "        8.44563036e-01, -1.92036708e-01,  1.32707889e+00,  1.18030194e-01,\n",
       "       -7.42394872e-02,  5.48249316e-01, -1.05777882e+00,  2.32301263e-01,\n",
       "       -8.71971959e-01, -1.82969263e+00,  1.63610566e+00,  5.67548319e-01,\n",
       "       -4.16479003e-01,  1.20992257e+00, -1.43625703e+00, -8.38460466e-01,\n",
       "        1.10904095e+00, -8.86387374e-01,  1.08257606e+00,  1.40390320e+00,\n",
       "       -1.30513119e-01,  6.01778081e-01,  2.83132307e+00,  8.84913392e-01,\n",
       "       -9.98707948e-01, -8.48123902e-01,  1.92202797e+00,  5.14766177e-01,\n",
       "       -5.98780298e-03, -8.42290033e-01,  8.34964207e-01,  2.13420405e+00,\n",
       "        5.41081837e-02,  4.51259343e-01, -1.18355767e+00, -1.67754275e+00,\n",
       "       -4.65867761e-01, -6.64452309e-01, -1.15999215e-01,  1.19185687e+00,\n",
       "       -1.00570393e+00,  1.88745972e-01, -1.93729150e-01,  9.05267922e-01,\n",
       "        8.77394803e-01,  7.70701587e-02, -8.70665453e-01,  8.18884624e-01,\n",
       "        1.53597372e+00, -2.35870447e-01,  3.59763003e-01, -1.78740741e-02,\n",
       "        1.10823176e-02,  1.56065597e+00, -1.38582725e+00,  2.65173907e+00,\n",
       "        6.86722027e-01, -2.60213225e-01, -6.79547161e-01, -4.63405339e-01,\n",
       "       -8.02302039e-01, -3.92159757e-01,  3.84540692e-01,  1.07031753e-01,\n",
       "        9.32132314e-01, -1.43626696e+00, -1.15111309e+00,  4.94903087e-01,\n",
       "       -1.17943960e+00,  1.16838751e-01,  2.12321083e-02, -4.43807124e-01,\n",
       "       -3.09849641e-02, -2.09142537e+00, -4.97457214e-01,  1.38036717e+00,\n",
       "       -2.25930268e-01, -3.38721106e-01,  9.20463176e-01, -1.74867115e+00,\n",
       "        3.16390995e-01,  5.92406840e-01, -1.14792560e+00,  1.78351017e+00,\n",
       "        4.52147927e-01, -3.14173075e-02, -6.28830414e-01,  1.58282181e-01,\n",
       "       -8.59068381e-02, -1.28000077e+00, -7.40979849e-01, -5.43350195e-01,\n",
       "       -1.75579940e+00,  6.63252153e-01, -4.72197108e-01, -2.62880552e-01,\n",
       "        1.95374645e+00,  7.10813630e-01, -1.26300541e+00,  7.29923040e-01,\n",
       "        1.59436602e+00,  1.49237488e+00, -3.47786022e-01, -2.05962032e+00,\n",
       "       -3.23340222e-01,  1.53532161e+00,  1.85654471e+00, -5.56768529e-01,\n",
       "       -7.53439057e-01,  1.93450376e+00, -1.84321161e+00,  7.97807172e-01,\n",
       "        1.45199528e+00, -5.97592634e-01, -2.68276033e-03, -7.23842233e-01,\n",
       "        5.40646301e-01,  1.33595051e+00, -1.64284733e-01,  3.34058047e-01,\n",
       "       -6.47767837e-01, -1.38071076e+00, -4.74190920e-01,  1.26947608e+00,\n",
       "        4.79879029e-01,  1.47365888e-01,  4.89089242e-01, -2.64805706e-01,\n",
       "       -2.32294003e-01,  1.40256647e-01,  1.39599784e-03,  2.11392900e-01,\n",
       "        1.84996286e+00,  1.47953462e+00,  5.53271345e-01,  3.07487056e-01,\n",
       "       -9.66076552e-02,  1.54200795e+00, -1.57992614e+00,  6.34511013e-01,\n",
       "       -2.18689172e+00, -8.89368202e-02, -4.84365379e-02, -1.56251354e+00,\n",
       "        1.32306379e-01, -9.74387364e-01,  4.69655749e-01, -5.99159776e-01,\n",
       "        1.47026874e+00, -1.08740261e+00, -1.05661204e+00, -1.33890630e-02,\n",
       "       -6.53579488e-01,  8.85236054e-01,  8.12497500e-01, -1.41118856e+00,\n",
       "        1.08033218e+00, -3.56798945e-01, -8.01711707e-01,  2.02544569e+00])"
      ]
     },
     "execution_count": 5,
     "metadata": {},
     "output_type": "execute_result"
    }
   ],
   "source": [
    "sample1"
   ]
  },
  {
   "cell_type": "markdown",
   "metadata": {},
   "source": [
    "__Q3:__ What is the mean of this sample? Is it exactly equal to the value you expected? Hint: the sample was drawn from the standard normal distribution. If you want a reminder of the properties of this distribution, check out p. 85 of *AoS*. "
   ]
  },
  {
   "cell_type": "markdown",
   "metadata": {},
   "source": [
    "__A:__"
   ]
  },
  {
   "cell_type": "code",
   "execution_count": 6,
   "metadata": {},
   "outputs": [
    {
     "data": {
      "text/plain": [
       "0.03175395463162135"
      ]
     },
     "execution_count": 6,
     "metadata": {},
     "output_type": "execute_result"
    }
   ],
   "source": [
    "# Calculate and print the mean here, hint: use np.mean()\n",
    "np.sum(sample1)/1000"
   ]
  },
  {
   "cell_type": "markdown",
   "metadata": {},
   "source": [
    "__Q4:__ What is the standard deviation of these numbers? Calculate this manually here as $\\sqrt{\\frac{\\sum_i(x_i - \\bar{x})^2}{n}}$ (This is just the definition of **standard deviation** given by Professor Spiegelhalter on p.403 of *AoS*). Hint: np.sqrt() and np.sum() will be useful here and remember that numPy supports [broadcasting](https://docs.scipy.org/doc/numpy/user/basics.broadcasting.html)."
   ]
  },
  {
   "cell_type": "markdown",
   "metadata": {},
   "source": [
    "__A:__"
   ]
  },
  {
   "cell_type": "code",
   "execution_count": 7,
   "metadata": {},
   "outputs": [
    {
     "name": "stdout",
     "output_type": "stream",
     "text": [
      "0.9892932315514312\n",
      "0.9787010979934737\n"
     ]
    }
   ],
   "source": [
    "import math\n",
    "xs = list(sample1)\n",
    "mean = sum(xs) / len(xs)   \n",
    "var  = sum(pow(x-mean,2) for x in xs) / len(xs)  \n",
    "std  = math.sqrt(var)\n",
    "print(std)\n",
    "print(var)"
   ]
  },
  {
   "cell_type": "markdown",
   "metadata": {},
   "source": [
    "Here we have calculated the actual standard deviation of a small data set (of size 5). But in this case, this small data set is actually a sample from our larger (infinite) population. In this case, the population is infinite because we could keep drawing our normal random variates until our computers die! \n",
    "\n",
    "In general, the sample mean we calculate will not be equal to the population mean (as we saw above). A consequence of this is that the sum of squares of the deviations from the _population_ mean will be bigger than the sum of squares of the deviations from the _sample_ mean. In other words, the sum of squares of the deviations from the _sample_ mean is too small to give an unbiased estimate of the _population_ variance. An example of this effect is given [here](https://en.wikipedia.org/wiki/Bessel%27s_correction#Source_of_bias). Scaling our estimate of the variance by the factor $n/(n-1)$ gives an unbiased estimator of the population variance. This factor is known as [Bessel's correction](https://en.wikipedia.org/wiki/Bessel%27s_correction). The consequence of this is that the $n$ in the denominator is replaced by $n-1$.\n",
    "\n",
    "You can see Bessel's correction reflected in Professor Spiegelhalter's definition of **variance** on p. 405 of *AoS*.\n",
    "\n",
    "__Q5:__ If all we had to go on was our five samples, what would be our best estimate of the population standard deviation? Use Bessel's correction ($n-1$ in the denominator), thus $\\sqrt{\\frac{\\sum_i(x_i - \\bar{x})^2}{n-1}}$."
   ]
  },
  {
   "cell_type": "markdown",
   "metadata": {},
   "source": [
    "__A:__"
   ]
  },
  {
   "cell_type": "code",
   "execution_count": 8,
   "metadata": {},
   "outputs": [
    {
     "data": {
      "text/plain": [
       "0.9787010979934734"
      ]
     },
     "execution_count": 8,
     "metadata": {},
     "output_type": "execute_result"
    }
   ],
   "source": [
    "np.var(sample1)"
   ]
  },
  {
   "cell_type": "markdown",
   "metadata": {},
   "source": [
    "__Q6:__ Now use numpy's std function to calculate the standard deviation of our random samples. Which of the above standard deviations did it return?"
   ]
  },
  {
   "cell_type": "markdown",
   "metadata": {},
   "source": [
    "__A:__"
   ]
  },
  {
   "cell_type": "code",
   "execution_count": 9,
   "metadata": {},
   "outputs": [
    {
     "data": {
      "text/plain": [
       "0.989293231551431"
      ]
     },
     "execution_count": 9,
     "metadata": {},
     "output_type": "execute_result"
    }
   ],
   "source": [
    "np.std(sample1)"
   ]
  },
  {
   "cell_type": "markdown",
   "metadata": {},
   "source": [
    "__Q7:__ Consult the documentation for np.std() to see how to apply the correction for estimating the population parameter and verify this produces the expected result."
   ]
  },
  {
   "cell_type": "markdown",
   "metadata": {},
   "source": [
    "__A:__"
   ]
  },
  {
   "cell_type": "code",
   "execution_count": null,
   "metadata": {},
   "outputs": [],
   "source": []
  },
  {
   "cell_type": "code",
   "execution_count": null,
   "metadata": {},
   "outputs": [],
   "source": []
  },
  {
   "cell_type": "markdown",
   "metadata": {},
   "source": [
    "### Summary of section"
   ]
  },
  {
   "cell_type": "markdown",
   "metadata": {},
   "source": [
    "In this section, you've been introduced to the scipy.stats package and used it to draw a small sample from the standard normal distribution. You've calculated the average (the mean) of this sample and seen that this is not exactly equal to the expected population parameter (which we know because we're generating the random variates from a specific, known distribution). You've been introduced to two ways of calculating the standard deviation; one uses $n$ in the denominator and the other uses $n-1$ (Bessel's correction). You've also seen which of these calculations np.std() performs by default and how to get it to generate the other."
   ]
  },
  {
   "cell_type": "markdown",
   "metadata": {},
   "source": [
    "You use $n$ as the denominator if you want to calculate the standard deviation of a sequence of numbers. You use $n-1$ if you are using this sequence of numbers to estimate the population parameter. This brings us to some terminology that can be a little confusing.\n",
    "\n",
    "The population parameter is traditionally written as $\\sigma$ and the sample statistic as $s$. Rather unhelpfully, $s$ is also called the sample standard deviation (using $n-1$) whereas the standard deviation of the sample uses $n$. That's right, we have the sample standard deviation and the standard deviation of the sample and they're not the same thing!\n",
    "\n",
    "The sample standard deviation\n",
    "\\begin{equation}\n",
    "s = \\sqrt{\\frac{\\sum_i(x_i - \\bar{x})^2}{n-1}} \\approx \\sigma,\n",
    "\\end{equation}\n",
    "is our best (unbiased) estimate of the population parameter ($\\sigma$).\n",
    "\n",
    "If your dataset _is_ your entire population, you simply want to calculate the population parameter, $\\sigma$, via\n",
    "\\begin{equation}\n",
    "\\sigma = \\sqrt{\\frac{\\sum_i(x_i - \\bar{x})^2}{n}}\n",
    "\\end{equation}\n",
    "as you have complete, full knowledge of your population. In other words, your sample _is_ your population. It's worth noting that we're dealing with what Professor Spiegehalter describes on p. 92 of *AoS* as a **metaphorical population**: we have all the data, and we act as if the data-point is taken from a population at random. We can think of this population as an imaginary space of possibilities. \n",
    "\n",
    "If, however, you have sampled _from_ your population, you only have partial knowledge of the state of your population. In this case, the standard deviation of your sample is not an unbiased estimate of the standard deviation of the population, in which case you seek to estimate that population parameter via the sample standard deviation, which uses the $n-1$ denominator."
   ]
  },
  {
   "cell_type": "markdown",
   "metadata": {},
   "source": [
    "Great work so far! Now let's dive deeper."
   ]
  },
  {
   "cell_type": "markdown",
   "metadata": {},
   "source": [
    "## 3. Sampling distributions"
   ]
  },
  {
   "cell_type": "markdown",
   "metadata": {},
   "source": [
    "So far we've been dealing with the concept of taking a sample from a population to infer the population parameters. One statistic we calculated for a sample was the mean. As our samples will be expected to vary from one draw to another, so will our sample statistics. If we were to perform repeat draws of size $n$ and calculate the mean of each, we would expect to obtain a distribution of values. This is the sampling distribution of the mean. **The Central Limit Theorem (CLT)** tells us that such a distribution will approach a normal distribution as $n$ increases (the intuitions behind the CLT are covered in full on p. 236 of *AoS*). For the sampling distribution of the mean, the standard deviation of this distribution is given by\n",
    "\n",
    "\\begin{equation}\n",
    "\\sigma_{mean} = \\frac{\\sigma}{\\sqrt n}\n",
    "\\end{equation}\n",
    "\n",
    "where $\\sigma_{mean}$ is the standard deviation of the sampling distribution of the mean and $\\sigma$ is the standard deviation of the population (the population parameter)."
   ]
  },
  {
   "cell_type": "markdown",
   "metadata": {},
   "source": [
    "This is important because typically we are dealing with samples from populations and all we know about the population is what we see in the sample. From this sample, we want to make inferences about the population. We may do this, for example, by looking at the histogram of the values and by calculating the mean and standard deviation (as estimates of the population parameters), and so we are intrinsically interested in how these quantities vary across samples. \n",
    "\n",
    "In other words, now that we've taken one sample of size $n$ and made some claims about the general population, what if we were to take another sample of size $n$? Would we get the same result? Would we make the same claims about the general population? This brings us to a fundamental question: _when we make some inference about a population based on our sample, how confident can we be that we've got it 'right'?_\n",
    "\n",
    "We need to think about **estimates and confidence intervals**: those concepts covered in Chapter 7, p. 189, of *AoS*."
   ]
  },
  {
   "cell_type": "markdown",
   "metadata": {},
   "source": [
    "Now, the standard normal distribution (with its variance equal to its standard deviation of one) would not be a great illustration of a key point. Instead, let's imagine we live in a town of 50,000 people and we know the height of everyone in this town. We will have 50,000 numbers that tell us everything about our population. We'll simulate these numbers now and put ourselves in one particular town, called 'town 47', where the population mean height is 172 cm and population standard deviation is 5 cm."
   ]
  },
  {
   "cell_type": "code",
   "execution_count": 10,
   "metadata": {},
   "outputs": [],
   "source": [
    "seed(47)\n",
    "pop_heights = norm.rvs(172, 5, size=50000)"
   ]
  },
  {
   "cell_type": "code",
   "execution_count": 11,
   "metadata": {},
   "outputs": [
    {
     "data": {
      "image/png": "[encoded data removed]",
      "text/plain": [
       "<Figure size 432x288 with 1 Axes>"
      ]
     },
     "metadata": {
      "needs_background": "light"
     },
     "output_type": "display_data"
    }
   ],
   "source": [
    "_ = plt.hist(pop_heights, bins=30)\n",
    "_ = plt.xlabel('height (cm)')\n",
    "_ = plt.ylabel('number of people')\n",
    "_ = plt.title('Distribution of heights in entire town population')\n",
    "_ = plt.axvline(172, color='r')\n",
    "_ = plt.axvline(172+5, color='r', linestyle='--')\n",
    "_ = plt.axvline(172-5, color='r', linestyle='--')\n",
    "_ = plt.axvline(172+10, color='r', linestyle='-.')\n",
    "_ = plt.axvline(172-10, color='r', linestyle='-.')"
   ]
  },
  {
   "cell_type": "markdown",
   "metadata": {},
   "source": [
    "Now, 50,000 people is rather a lot to chase after with a tape measure. If all you want to know is the average height of the townsfolk, then can you just go out and measure a sample to get a pretty good estimate of the average height?"
   ]
  },
  {
   "cell_type": "code",
   "execution_count": 12,
   "metadata": {},
   "outputs": [],
   "source": [
    "def townsfolk_sampler(n):\n",
    "    return np.random.choice(pop_heights, n)"
   ]
  },
  {
   "cell_type": "markdown",
   "metadata": {},
   "source": [
    "Let's say you go out one day and randomly sample 10 people to measure."
   ]
  },
  {
   "cell_type": "code",
   "execution_count": 13,
   "metadata": {},
   "outputs": [],
   "source": [
    "seed(47)\n",
    "daily_sample1 = townsfolk_sampler(10)"
   ]
  },
  {
   "cell_type": "code",
   "execution_count": 14,
   "metadata": {},
   "outputs": [
    {
     "data": {
      "image/png": "[encoded data removed]",
      "text/plain": [
       "<Figure size 432x288 with 1 Axes>"
      ]
     },
     "metadata": {
      "needs_background": "light"
     },
     "output_type": "display_data"
    }
   ],
   "source": [
    "_ = plt.hist(daily_sample1, bins=10)\n",
    "_ = plt.xlabel('height (cm)')\n",
    "_ = plt.ylabel('number of people')\n",
    "_ = plt.title('Distribution of heights in sample size 10')"
   ]
  },
  {
   "cell_type": "markdown",
   "metadata": {},
   "source": [
    "The sample distribution doesn't resemble what we take the population distribution to be. What do we get for the mean?"
   ]
  },
  {
   "cell_type": "code",
   "execution_count": 15,
   "metadata": {},
   "outputs": [
    {
     "data": {
      "text/plain": [
       "173.47911444163503"
      ]
     },
     "execution_count": 15,
     "metadata": {},
     "output_type": "execute_result"
    }
   ],
   "source": [
    "np.mean(daily_sample1)"
   ]
  },
  {
   "cell_type": "markdown",
   "metadata": {},
   "source": [
    "And if we went out and repeated this experiment?"
   ]
  },
  {
   "cell_type": "code",
   "execution_count": 16,
   "metadata": {},
   "outputs": [],
   "source": [
    "daily_sample2 = townsfolk_sampler(10)"
   ]
  },
  {
   "cell_type": "code",
   "execution_count": 17,
   "metadata": {},
   "outputs": [
    {
     "data": {
      "text/plain": [
       "173.7317666636263"
      ]
     },
     "execution_count": 17,
     "metadata": {},
     "output_type": "execute_result"
    }
   ],
   "source": [
    "np.mean(daily_sample2)"
   ]
  },
  {
   "cell_type": "markdown",
   "metadata": {},
   "source": [
    "__Q8:__ Simulate performing this random trial every day for a year, calculating the mean of each daily sample of 10, and plot the resultant sampling distribution of the mean."
   ]
  },
  {
   "cell_type": "markdown",
   "metadata": {},
   "source": [
    "__A:__"
   ]
  },
  {
   "cell_type": "code",
   "execution_count": 18,
   "metadata": {},
   "outputs": [],
   "source": [
    "for i in range(0,365):\n",
    "    daily_sample = townsfolk_sampler(10)"
   ]
  },
  {
   "cell_type": "code",
   "execution_count": 19,
   "metadata": {},
   "outputs": [
    {
     "name": "stdout",
     "output_type": "stream",
     "text": [
      "173.47911444163503\n",
      "173.7317666636263\n",
      "172.54893867276104\n",
      "171.43257319553967\n",
      "172.7151613148319\n",
      "172.82799509412092\n",
      "172.72104620090087\n",
      "171.35684251559897\n",
      "172.06082915612325\n",
      "175.02116165843373\n",
      "172.87297442836729\n",
      "173.10695709894807\n",
      "174.28251319331625\n",
      "172.16799412617846\n",
      "172.2677166306168\n",
      "174.1148759511088\n",
      "173.76989560652873\n",
      "173.53587661697912\n",
      "171.73109636549412\n",
      "173.6192933521118\n",
      "171.4122703231149\n",
      "169.8912622859572\n",
      "171.50855064552047\n",
      "170.79777102526515\n",
      "172.13293591535268\n",
      "174.04237966386012\n",
      "171.41699712312\n",
      "169.68751210980005\n",
      "170.70138979236123\n",
      "170.50288822335273\n",
      "171.1227335807866\n",
      "172.18184913764566\n",
      "172.68945746436543\n",
      "171.0001004904461\n",
      "170.89451146667253\n",
      "171.09020297014567\n",
      "171.25533609966612\n",
      "172.10797845540236\n",
      "171.08827013545948\n",
      "172.6513531230999\n",
      "175.070689805427\n",
      "169.97597644140453\n",
      "172.2797674841427\n",
      "169.68001261485807\n",
      "172.80409332096238\n",
      "172.55229420480956\n",
      "173.83054118621465\n",
      "173.37568836233626\n",
      "171.89359355779794\n",
      "171.6665742212276\n",
      "169.9004743876151\n",
      "172.72984382291025\n",
      "169.46043079819069\n",
      "171.9066883458138\n",
      "174.31024504533102\n",
      "172.9549236584936\n",
      "170.26013472404284\n",
      "171.62782407697222\n",
      "171.93287814147618\n",
      "172.67107823125573\n",
      "173.35560534761376\n",
      "171.5928923513852\n",
      "174.01996330433786\n",
      "168.70526103039566\n",
      "174.4291544932485\n",
      "172.99782989083792\n",
      "169.85679627411287\n",
      "170.51072224889845\n",
      "169.90321605710665\n",
      "170.15223960286718\n",
      "171.69847097209998\n",
      "172.1247564115574\n",
      "170.7393421379653\n",
      "169.418394777909\n",
      "172.90126387627427\n",
      "173.349965975603\n",
      "172.31408857482649\n",
      "170.95008031433505\n",
      "168.6026063397666\n",
      "169.23740477644245\n",
      "168.98395307845203\n",
      "170.24977041291908\n",
      "172.28866881866844\n",
      "169.4954901013438\n",
      "172.14048141305437\n",
      "170.63029872192917\n",
      "170.81450578452282\n",
      "172.7564010423859\n",
      "172.270704952318\n",
      "172.75102003444198\n",
      "170.29337424391514\n",
      "171.37511929823515\n",
      "171.19824057530133\n",
      "175.6782843800554\n",
      "169.98345772406594\n",
      "171.97617797193666\n",
      "170.56013527190584\n",
      "171.50909868435141\n",
      "172.75712339394886\n",
      "173.2095114832777\n",
      "172.10653392996448\n",
      "173.14812711662768\n",
      "170.10688635551668\n",
      "173.3757843013828\n",
      "172.1393269463663\n",
      "169.68126101129226\n",
      "173.51940617466894\n",
      "170.64933192553676\n",
      "172.9302606791998\n",
      "171.55990939669806\n",
      "171.92304718402258\n",
      "173.64455234145223\n",
      "171.97230993627605\n",
      "171.4139294230426\n",
      "173.09648158348617\n",
      "171.59077758086715\n",
      "172.02580024296842\n",
      "172.21608501143896\n",
      "172.0071934611132\n",
      "172.33599701625351\n",
      "171.028648188148\n",
      "173.3730965923039\n",
      "171.63339660555894\n",
      "172.24280703841163\n",
      "170.96259686809128\n",
      "175.03094575416975\n",
      "173.6428041806974\n",
      "172.95723098557428\n",
      "171.9821148360482\n",
      "172.86230119411863\n",
      "173.2818959291762\n",
      "170.74391386736906\n",
      "171.85618466569377\n",
      "174.516404929308\n",
      "171.9757816604739\n",
      "172.8532356879273\n",
      "170.8863347896039\n",
      "172.02699101055003\n",
      "171.00702877519421\n",
      "174.4668408638607\n",
      "167.8482928708372\n",
      "170.87326329719744\n",
      "172.24076331599596\n",
      "174.06036645523105\n",
      "173.65199868699432\n",
      "171.31020238919996\n",
      "172.8757717751434\n",
      "169.00973760863025\n",
      "169.36066339463133\n",
      "172.8394581127686\n",
      "173.2849490876725\n",
      "167.94708299375463\n",
      "171.4944813760528\n",
      "173.26676195725375\n",
      "174.36603867262343\n",
      "169.3835107781193\n",
      "170.81702577580646\n",
      "172.65881074097973\n",
      "170.5043935231086\n",
      "174.48530539837125\n",
      "169.28374480528095\n",
      "173.11587199242774\n",
      "169.48869927808207\n",
      "174.05802462897157\n",
      "170.41037396562533\n",
      "170.3850832762101\n",
      "171.14614333175618\n",
      "171.28870072653964\n",
      "172.76671420430083\n",
      "169.95471759650735\n",
      "172.86382182013728\n",
      "172.6225511373559\n",
      "172.33656268781826\n",
      "168.62332166556928\n",
      "172.7111357521249\n",
      "171.82186352481727\n",
      "173.28085693950445\n",
      "169.06595378147523\n",
      "174.0801392411933\n",
      "174.9773349255948\n",
      "171.28213572811805\n",
      "171.6730813592417\n",
      "169.45634682144438\n",
      "173.43393215657332\n",
      "170.86374559269453\n",
      "173.21556904620837\n",
      "169.1862678724352\n",
      "171.20026812399502\n",
      "171.47106714440469\n",
      "173.32428817479482\n",
      "171.2691694937409\n",
      "169.74157082970493\n",
      "172.91823143229223\n",
      "171.78081907440483\n",
      "170.11860847293156\n",
      "171.87026079537708\n",
      "170.74069830935466\n",
      "172.46488874903895\n",
      "172.98225023418647\n",
      "174.46081103471732\n",
      "173.49400936370455\n",
      "169.51557464300683\n",
      "171.73063129611373\n",
      "170.7169353336031\n",
      "174.6602048576773\n",
      "172.3849780185491\n",
      "172.79482744498335\n",
      "172.66798523120897\n",
      "173.03683236655385\n",
      "169.03388574785288\n",
      "170.27625725905142\n",
      "171.6548397802826\n",
      "173.9110065626827\n",
      "172.36666043469813\n",
      "173.0806786048489\n",
      "170.5454321114398\n",
      "171.63218644552478\n",
      "173.75734815005714\n",
      "173.4663602192376\n",
      "173.93185477413437\n",
      "172.21851080918435\n",
      "174.99259084185877\n",
      "172.79446184726748\n",
      "171.51052052455086\n",
      "173.24255009028505\n",
      "171.8830523292385\n",
      "172.78335534863947\n",
      "171.91694787219325\n",
      "170.12924519370299\n",
      "171.6125036310404\n",
      "172.90245069941636\n",
      "173.09703321285585\n",
      "172.13187273881533\n",
      "173.1671394346884\n",
      "170.08389854480225\n",
      "173.93739863468136\n",
      "171.3831801935383\n",
      "173.0648792145468\n",
      "171.67286845324548\n",
      "172.74454332610662\n",
      "170.29325491672353\n",
      "168.50440626366915\n",
      "172.52943025832766\n",
      "168.22985199166658\n",
      "173.63375684095035\n",
      "173.8223904901435\n",
      "170.64928888578683\n",
      "171.7803289727296\n",
      "169.31058690937567\n",
      "170.90044256609488\n",
      "172.67827045507593\n",
      "172.0422309421312\n",
      "173.17659183674408\n",
      "169.49895501607463\n",
      "172.8853684043484\n",
      "173.3982671958468\n",
      "169.6718344723641\n",
      "169.3434812632541\n",
      "175.1631703883851\n",
      "170.59481340389107\n",
      "170.58426243494063\n",
      "172.72334025117496\n",
      "172.1307888143033\n",
      "169.01609630447473\n",
      "171.15681558897592\n",
      "174.684931280434\n",
      "169.29446475103575\n",
      "171.65686646102714\n",
      "173.8172097345154\n",
      "170.72391555094927\n",
      "170.5159267446483\n",
      "174.0926258645925\n",
      "168.74354262686796\n",
      "171.60449755276952\n",
      "173.35249290348906\n",
      "169.59524622005407\n",
      "172.31825115793964\n",
      "173.43051530494725\n",
      "175.97945459508188\n",
      "172.41542957870462\n",
      "172.48108913345823\n",
      "175.73235560113446\n",
      "173.30917671705808\n",
      "170.5016307174128\n",
      "171.47442800822694\n",
      "172.921116303701\n",
      "171.1639042540142\n",
      "173.15958685889186\n",
      "170.6199464194715\n",
      "170.84177739176616\n",
      "171.99038709269252\n",
      "174.23130175705404\n",
      "170.4855060493516\n",
      "172.02085224658146\n",
      "172.08650337240257\n",
      "173.12384811687497\n",
      "170.09817772721084\n",
      "171.4714587067785\n",
      "172.78753151796303\n",
      "172.85937740574727\n",
      "169.39067373385993\n",
      "172.88433436767303\n",
      "172.09661414856313\n",
      "172.27425697400423\n",
      "170.7114548591524\n",
      "172.19296597942235\n",
      "167.52865965907253\n",
      "172.32570464261443\n",
      "172.72742669079858\n",
      "172.5216957174198\n",
      "172.05940736419612\n",
      "168.8771648188222\n",
      "170.44810196307384\n",
      "173.01149455582384\n",
      "172.52292732563117\n",
      "169.7669347411906\n",
      "169.465402331526\n",
      "173.02223016664223\n",
      "170.27061511503928\n",
      "171.18421420659692\n",
      "173.06750477700962\n",
      "173.43258352486112\n",
      "171.82939845035773\n",
      "170.92672944980677\n",
      "169.81785832026858\n",
      "171.92871073981357\n",
      "170.34135388864743\n",
      "169.05442315458353\n",
      "172.84601765466334\n",
      "171.73522189318317\n",
      "169.2123811879794\n",
      "172.29730173923366\n",
      "169.99961438919348\n",
      "170.02830791269838\n",
      "171.75064789746975\n",
      "170.766935167691\n",
      "173.9810026650127\n",
      "169.92358516806348\n",
      "174.53205578998305\n",
      "173.21890262201072\n",
      "174.25370792104414\n",
      "172.91850748641357\n",
      "172.6887688830941\n",
      "172.064319088991\n",
      "169.88770099269323\n",
      "171.46079489790765\n",
      "171.48307828152147\n",
      "172.59879898682084\n",
      "172.37504542447692\n",
      "168.70639919115436\n",
      "172.76066642690037\n",
      "171.6634185490236\n",
      "173.98434386877807\n",
      "171.42827851034042\n",
      "171.77118445785496\n",
      "169.17922506646468\n",
      "173.782895546607\n",
      "170.82035700816542\n",
      "170.98291389030948\n",
      "172.02218170287054\n",
      "173.20080178649226\n",
      "172.85589043208137\n",
      "171.9024897421873\n",
      "170.45743937442882\n",
      "171.64487927395743\n"
     ]
    }
   ],
   "source": [
    "seed(47)\n",
    "# take your samples here\n",
    "for i in range(0,365):\n",
    "    daily_sample = townsfolk_sampler(10)\n",
    "    print(np.mean(daily_sample))"
   ]
  },
  {
   "cell_type": "code",
   "execution_count": null,
   "metadata": {},
   "outputs": [],
   "source": []
  },
  {
   "cell_type": "markdown",
   "metadata": {},
   "source": [
    "The above is the distribution of the means of samples of size 10 taken from our population. The Central Limit Theorem tells us the expected mean of this distribution will be equal to the population mean, and standard deviation will be $\\sigma / \\sqrt n$, which, in this case, should be approximately 1.58."
   ]
  },
  {
   "cell_type": "markdown",
   "metadata": {},
   "source": [
    "__Q9:__ Verify the above results from the CLT."
   ]
  },
  {
   "cell_type": "markdown",
   "metadata": {},
   "source": [
    "__A:__"
   ]
  },
  {
   "cell_type": "code",
   "execution_count": 20,
   "metadata": {},
   "outputs": [
    {
     "data": {
      "image/png": "[encoded data removed]",
      "text/plain": [
       "<Figure size 432x288 with 1 Axes>"
      ]
     },
     "metadata": {
      "needs_background": "light"
     },
     "output_type": "display_data"
    }
   ],
   "source": [
    "_ = plt.hist(daily_sample, bins=10)\n",
    "_ = plt.xlabel('height (cm)')\n",
    "_ = plt.ylabel('number of people')\n",
    "_ = plt.title('Distribution of heights in sample size 10')"
   ]
  },
  {
   "cell_type": "code",
   "execution_count": 21,
   "metadata": {},
   "outputs": [
    {
     "data": {
      "text/plain": [
       "1.4402892233915803"
      ]
     },
     "execution_count": 21,
     "metadata": {},
     "output_type": "execute_result"
    }
   ],
   "source": [
    "sdt_deviation=np.std(daily_sample)/np.sqrt(10)\n",
    "sdt_deviation"
   ]
  },
  {
   "cell_type": "markdown",
   "metadata": {},
   "source": [
    "Remember, in this instance, we knew our population parameters, that the average height really is 172 cm and the standard deviation is 5 cm, and we see some of our daily estimates of the population mean were as low as around 168 and some as high as 176."
   ]
  },
  {
   "cell_type": "markdown",
   "metadata": {},
   "source": [
    "__Q10:__ Repeat the above year's worth of samples but for a sample size of 50 (perhaps you had a bigger budget for conducting surveys that year)! Would you expect your distribution of sample means to be wider (more variable) or narrower (more consistent)? Compare your resultant summary statistics to those predicted by the CLT."
   ]
  },
  {
   "cell_type": "markdown",
   "metadata": {},
   "source": [
    "__A:__"
   ]
  },
  {
   "cell_type": "code",
   "execution_count": 22,
   "metadata": {},
   "outputs": [
    {
     "data": {
      "text/plain": [
       "172.7815108576788"
      ]
     },
     "execution_count": 22,
     "metadata": {},
     "output_type": "execute_result"
    }
   ],
   "source": [
    "seed(47)\n",
    "# calculate daily means from the larger sample size here\n",
    "larger_sample1 = townsfolk_sampler(50)\n",
    "np.mean(larger_sample1)"
   ]
  },
  {
   "cell_type": "code",
   "execution_count": null,
   "metadata": {},
   "outputs": [],
   "source": []
  },
  {
   "cell_type": "markdown",
   "metadata": {},
   "source": [
    "What we've seen so far, then, is that we can estimate population parameters from a sample from the population, and that samples have their own distributions. Furthermore, the larger the sample size, the narrower are those sampling distributions."
   ]
  },
  {
   "cell_type": "markdown",
   "metadata": {},
   "source": [
    "### Normally testing time!"
   ]
  },
  {
   "cell_type": "markdown",
   "metadata": {},
   "source": [
    "All of the above is well and good. We've been sampling from a population we know is normally distributed, we've come to understand when to use $n$ and when to use $n-1$ in the denominator to calculate the spread of a distribution, and we've  seen the Central Limit Theorem in action for a sampling distribution. All seems very well behaved in Frequentist land. But, well, why should we really care?"
   ]
  },
  {
   "cell_type": "markdown",
   "metadata": {},
   "source": [
    "Remember, we rarely (if ever) actually know our population parameters but we still have to estimate them somehow. If we want to make inferences to conclusions like \"this observation is unusual\" or \"my population mean has changed\" then we need to have some idea of what the underlying distribution is so we can calculate relevant probabilities. In frequentist inference, we use the formulae above to deduce these population parameters. Take a moment in the next part of this assignment to refresh your understanding of how these probabilities work."
   ]
  },
  {
   "cell_type": "markdown",
   "metadata": {},
   "source": [
    "Recall some basic properties of the standard normal distribution, such as that about 68% of observations are within plus or minus 1 standard deviation of the mean. Check out the precise definition of a normal distribution on p. 394 of *AoS*. \n",
    "\n",
    "__Q11:__ Using this fact, calculate the probability of observing the value 1 or less in a single observation from the standard normal distribution. Hint: you may find it helpful to sketch the standard normal distribution (the familiar bell shape) and mark the number of standard deviations from the mean on the x-axis and shade the regions of the curve that contain certain percentages of the population."
   ]
  },
  {
   "cell_type": "markdown",
   "metadata": {},
   "source": [
    "__A:__"
   ]
  },
  {
   "cell_type": "markdown",
   "metadata": {},
   "source": [
    "Calculating this probability involved calculating the area under the curve from the value of 1 and below. To put it in mathematical terms, we need to *integrate* the probability density function. We could just add together the known areas of chunks (from -Inf to 0 and then 0 to $+\\sigma$ in the example above). One way to do this is to look up tables (literally). Fortunately, scipy has this functionality built in with the cdf() function."
   ]
  },
  {
   "cell_type": "markdown",
   "metadata": {},
   "source": [
    "__Q12:__ Use the cdf() function to answer the question above again and verify you get the same answer."
   ]
  },
  {
   "cell_type": "markdown",
   "metadata": {},
   "source": [
    "__A:__"
   ]
  },
  {
   "cell_type": "code",
   "execution_count": 23,
   "metadata": {},
   "outputs": [
    {
     "data": {
      "text/plain": [
       "0.8413447460685429"
      ]
     },
     "execution_count": 23,
     "metadata": {},
     "output_type": "execute_result"
    }
   ],
   "source": [
    "norm_cdf = norm.cdf(1)\n",
    "norm_cdf"
   ]
  },
  {
   "cell_type": "code",
   "execution_count": null,
   "metadata": {},
   "outputs": [],
   "source": []
  },
  {
   "cell_type": "markdown",
   "metadata": {},
   "source": [
    "__Q13:__ Using our knowledge of the population parameters for our townsfolks' heights, what is the probability of selecting one person at random and their height being 177 cm or less? Calculate this using both of the approaches given above."
   ]
  },
  {
   "cell_type": "markdown",
   "metadata": {},
   "source": [
    "__A:__"
   ]
  },
  {
   "cell_type": "code",
   "execution_count": 25,
   "metadata": {},
   "outputs": [
    {
     "data": {
      "text/plain": [
       "0.8413447460685429"
      ]
     },
     "execution_count": 25,
     "metadata": {},
     "output_type": "execute_result"
    }
   ],
   "source": [
    "norm.cdf(177,172,scale=5)#scale is sub for std"
   ]
  },
  {
   "cell_type": "markdown",
   "metadata": {},
   "source": [
    "__Q14:__ Turning this question around — suppose we randomly pick one person and measure their height and find they are 2.00 m tall. How surprised should we be at this result, given what we know about the population distribution? In other words, how likely would it be to obtain a value at least as extreme as this? Express this as a probability. "
   ]
  },
  {
   "cell_type": "markdown",
   "metadata": {},
   "source": [
    "__A:__"
   ]
  },
  {
   "cell_type": "code",
   "execution_count": 28,
   "metadata": {},
   "outputs": [
    {
     "data": {
      "text/plain": [
       "1.0717590259723409e-08"
      ]
     },
     "execution_count": 28,
     "metadata": {},
     "output_type": "execute_result"
    }
   ],
   "source": [
    "1 - (norm.cdf(200,172,scale=5))"
   ]
  },
  {
   "cell_type": "markdown",
   "metadata": {},
   "source": [
    "What we've just done is calculate the ***p-value*** of the observation of someone 2.00m tall (review *p*-values if you need to on p. 399 of *AoS*). We could calculate this probability by virtue of knowing the population parameters. We were then able to use the known properties of the relevant normal distribution to calculate the probability of observing a value at least as extreme as our test value."
   ]
  },
  {
   "cell_type": "markdown",
   "metadata": {},
   "source": [
    "We're about to come to a pinch, though. We've said a couple of times that we rarely, if ever, know the true population parameters; we have to estimate them from our sample and we cannot even begin to estimate the standard deviation from a single observation. \n",
    "\n",
    "This is very true and usually we have sample sizes larger than one. This means we can calculate the mean of the sample as our best estimate of the population mean and the standard deviation as our best estimate of the population standard deviation. \n",
    "\n",
    "In other words, we are now coming to deal with the sampling distributions we mentioned above as we are generally concerned with the properties of the sample means we obtain. \n",
    "\n",
    "Above, we highlighted one result from the CLT, whereby the sampling distribution (of the mean) becomes narrower and narrower with the square root of the sample size. We remind ourselves that another result from the CLT is that _even if the underlying population distribution is not normal, the sampling distribution will tend to become normal with sufficiently large sample size_. (**Check out p. 199 of AoS if you need to revise this**). This is the key driver for us 'requiring' a certain sample size, for example you may frequently see a minimum sample size of 30 stated in many places. In reality this is simply a rule of thumb; if the underlying distribution is approximately normal then your sampling distribution will already be pretty normal, but if the underlying distribution is heavily skewed then you'd want to increase your sample size."
   ]
  },
  {
   "cell_type": "markdown",
   "metadata": {},
   "source": [
    "__Q15:__ Let's now start from the position of knowing nothing about the heights of people in our town.\n",
    "* Use the random seed of 47, to randomly sample the heights of 50 townsfolk\n",
    "* Estimate the population mean using np.mean\n",
    "* Estimate the population standard deviation using np.std (remember which denominator to use!)\n",
    "* Calculate the (95%) [margin of error](https://www.statisticshowto.datasciencecentral.com/probability-and-statistics/hypothesis-testing/margin-of-error/#WhatMofE) (use the exact critial z value to 2 decimal places - [look this up](https://www.statisticshowto.datasciencecentral.com/probability-and-statistics/find-critical-values/) or use norm.ppf()) Recall that the ***margin of error*** is mentioned on p. 189 of the *AoS* and discussed in depth in that chapter). \n",
    "* Calculate the 95% Confidence Interval of the mean (***confidence intervals*** are defined on p. 385 of *AoS*) \n",
    "* Does this interval include the true population mean?"
   ]
  },
  {
   "cell_type": "markdown",
   "metadata": {},
   "source": [
    "__A:__"
   ]
  },
  {
   "cell_type": "code",
   "execution_count": 23,
   "metadata": {},
   "outputs": [],
   "source": [
    "seed(47)\n",
    "# take your sample now\n",
    "sample50 = townsfolk_sampler(50)"
   ]
  },
  {
   "cell_type": "code",
   "execution_count": 24,
   "metadata": {},
   "outputs": [
    {
     "data": {
      "text/plain": [
       "172.7815108576788"
      ]
     },
     "execution_count": 24,
     "metadata": {},
     "output_type": "execute_result"
    }
   ],
   "source": [
    "np.mean(sample50)"
   ]
  },
  {
   "cell_type": "code",
   "execution_count": 28,
   "metadata": {},
   "outputs": [
    {
     "name": "stdout",
     "output_type": "stream",
     "text": [
      "4.153258225264711\n",
      "17.249553885728975\n"
     ]
    }
   ],
   "source": [
    "x50 = list(sample50)\n",
    "mean = sum(x50) / len(x50)   \n",
    "var  = sum(pow(x-mean,2) for x in x50) / len(x50)  \n",
    "std  = math.sqrt(var)\n",
    "print(std)\n",
    "print(var)"
   ]
  },
  {
   "cell_type": "code",
   "execution_count": 45,
   "metadata": {},
   "outputs": [
    {
     "data": {
      "text/plain": [
       "1.1512244456005654"
      ]
     },
     "execution_count": 45,
     "metadata": {},
     "output_type": "execute_result"
    }
   ],
   "source": [
    "1.96*(np.std(sample50)/np.sqrt(50))"
   ]
  },
  {
   "cell_type": "code",
   "execution_count": 33,
   "metadata": {},
   "outputs": [
    {
     "name": "stdout",
     "output_type": "stream",
     "text": [
      "172.7815108576788 171.589184447403 173.9738372679546\n"
     ]
    }
   ],
   "source": [
    "import scipy.stats\n",
    "def mean_confidence_interval(data, confidence=0.95):\n",
    "    a = 1.0 * np.array(data)\n",
    "    n = len(a)\n",
    "    m, se = np.mean(a), scipy.stats.sem(a)\n",
    "    h = se * scipy.stats.t.ppf((1 + confidence) / 2., n-1)\n",
    "    print(m, m-h, m+h)\n",
    "    \n",
    "mean_confidence_interval(sample50)"
   ]
  },
  {
   "cell_type": "markdown",
   "metadata": {},
   "source": [
    "__Q16:__ Above, we calculated the confidence interval using the critical z value. What is the problem with this? What requirement, or requirements, are we (strictly) failing?"
   ]
  },
  {
   "cell_type": "markdown",
   "metadata": {},
   "source": [
    "__A:__"
   ]
  },
  {
   "cell_type": "markdown",
   "metadata": {},
   "source": [
    "__Q17:__ Calculate the 95% confidence interval for the mean using the _t_ distribution. Is this wider or narrower than that based on the normal distribution above? If you're unsure, you may find this [resource](https://www.statisticshowto.datasciencecentral.com/probability-and-statistics/confidence-interval/) useful. For calculating the critical value, remember how you could calculate this for the normal distribution using norm.ppf()."
   ]
  },
  {
   "cell_type": "markdown",
   "metadata": {},
   "source": [
    "__A:__"
   ]
  },
  {
   "cell_type": "code",
   "execution_count": 47,
   "metadata": {},
   "outputs": [
    {
     "data": {
      "text/plain": [
       "0.025000000000000022"
      ]
     },
     "execution_count": 47,
     "metadata": {},
     "output_type": "execute_result"
    }
   ],
   "source": [
    "sample10 = townsfolk_sampler(10)\n",
    "sample_size=10-1\n",
    "A=(1-0.95)/2\n",
    "B=np.std(sample10)/np.sqrt(10)\n",
    "A"
   ]
  },
  {
   "cell_type": "code",
   "execution_count": 49,
   "metadata": {},
   "outputs": [
    {
     "data": {
      "text/plain": [
       "4.956557463043254"
      ]
     },
     "execution_count": 49,
     "metadata": {},
     "output_type": "execute_result"
    }
   ],
   "source": [
    "C = B*2.262 #because a = 0.025 and sample-1 = 9\n",
    "C"
   ]
  },
  {
   "cell_type": "code",
   "execution_count": 50,
   "metadata": {},
   "outputs": [
    {
     "data": {
      "text/plain": [
       "167.76448873785762"
      ]
     },
     "execution_count": 50,
     "metadata": {},
     "output_type": "execute_result"
    }
   ],
   "source": [
    "np.mean(sample10)-C"
   ]
  },
  {
   "cell_type": "code",
   "execution_count": 51,
   "metadata": {},
   "outputs": [
    {
     "data": {
      "text/plain": [
       "177.67760366394413"
      ]
     },
     "execution_count": 51,
     "metadata": {},
     "output_type": "execute_result"
    }
   ],
   "source": [
    "np.mean(sample10)+C"
   ]
  },
  {
   "cell_type": "code",
   "execution_count": null,
   "metadata": {},
   "outputs": [],
   "source": []
  },
  {
   "cell_type": "markdown",
   "metadata": {},
   "source": [
    "This is slightly wider than the previous confidence interval. This reflects the greater uncertainty given that we are estimating population parameters from a sample."
   ]
  },
  {
   "cell_type": "markdown",
   "metadata": {},
   "source": [
    "## 4. Learning outcomes"
   ]
  },
  {
   "cell_type": "markdown",
   "metadata": {},
   "source": [
    "Having completed this project notebook, you now have hands-on experience:\n",
    "* sampling and calculating probabilities from a normal distribution\n",
    "* identifying the correct way to estimate the standard deviation of a population (the population parameter) from a sample\n",
    "* with sampling distribution and now know how the Central Limit Theorem applies\n",
    "* with how to calculate critical values and confidence intervals"
   ]
  },
  {
   "cell_type": "code",
   "execution_count": null,
   "metadata": {},
   "outputs": [],
   "source": []
  }
 ],
 "metadata": {
  "kernelspec": {
   "display_name": "Python 3",
   "language": "python",
   "name": "python3"
  },
  "language_info": {
   "codemirror_mode": {
    "name": "ipython",
    "version": 3
   },
   "file_extension": ".py",
   "mimetype": "text/x-python",
   "name": "python",
   "nbconvert_exporter": "python",
   "pygments_lexer": "ipython3",
   "version": "3.7.7"
  }
 },
 "nbformat": 4,
 "nbformat_minor": 2
}
